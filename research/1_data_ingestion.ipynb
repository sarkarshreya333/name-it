{
 "cells": [
  {
   "metadata": {},
   "cell_type": "raw",
   "source": [
    "{\n",
    " \"cells\": [\n",
    "  {\n",
    "   \"cell_type\": \"code\",\n",
    "   \"execution_count\": null,\n",
    "   \"id\": \"initial_id\",\n",
    "   \"metadata\": {\n",
    "    \"collapsed\": true\n",
    "   },\n",
    "   \"outputs\": [],\n",
    "   \"source\": [\n",
    "    \"\"\n",
    "   ]\n",
    "  }\n",
    " ],\n",
    " \"metadata\": {\n",
    "  \"kernelspec\": {\n",
    "   \"display_name\": \"Python 3\",\n",
    "   \"language\": \"python\",\n",
    "   \"name\": \"python3\"\n",
    "  },\n",
    "  \"language_info\": {\n",
    "   \"codemirror_mode\": {\n",
    "    \"name\": \"ipython\",\n",
    "    \"version\": 2\n",
    "   },\n",
    "   \"file_extension\": \".py\",\n",
    "   \"mimetype\": \"text/x-python\",\n",
    "   \"name\": \"python\",\n",
    "   \"nbconvert_exporter\": \"python\",\n",
    "   \"pygments_lexer\": \"ipython2\",\n",
    "   \"version\": \"2.7.6\"\n",
    "  }\n",
    " },\n",
    " \"nbformat\": 4,\n",
    " \"nbformat_minor\": 5\n",
    "}\n"
   ],
   "id": "8b4172057b3a531b"
  },
  {
   "metadata": {
    "ExecuteTime": {
     "end_time": "2025-02-26T12:17:52.769839Z",
     "start_time": "2025-02-26T12:17:52.765857Z"
    }
   },
   "cell_type": "code",
   "source": "import os",
   "id": "8d54c515188860d8",
   "outputs": [],
   "execution_count": 1
  },
  {
   "metadata": {
    "ExecuteTime": {
     "end_time": "2025-02-26T12:18:10.271199Z",
     "start_time": "2025-02-26T12:18:10.258390Z"
    }
   },
   "cell_type": "code",
   "source": "%pwd",
   "id": "b81a31cb4bb9b22f",
   "outputs": [
    {
     "data": {
      "text/plain": [
       "'/Users/shreyasarkar/name-it/research'"
      ]
     },
     "execution_count": 2,
     "metadata": {},
     "output_type": "execute_result"
    }
   ],
   "execution_count": 2
  },
  {
   "metadata": {
    "ExecuteTime": {
     "end_time": "2025-02-26T12:18:36.411961Z",
     "start_time": "2025-02-26T12:18:36.405115Z"
    }
   },
   "cell_type": "code",
   "source": "os.chdir(\"../\")\n",
   "id": "b3eb425f9e6d42dd",
   "outputs": [],
   "execution_count": 3
  },
  {
   "metadata": {
    "ExecuteTime": {
     "end_time": "2025-02-26T12:18:58.853809Z",
     "start_time": "2025-02-26T12:18:58.846621Z"
    }
   },
   "cell_type": "code",
   "source": "%pwd\n",
   "id": "a7a465814af9a9ae",
   "outputs": [
    {
     "data": {
      "text/plain": [
       "'/Users/shreyasarkar/name-it'"
      ]
     },
     "execution_count": 4,
     "metadata": {},
     "output_type": "execute_result"
    }
   ],
   "execution_count": 4
  },
  {
   "metadata": {
    "ExecuteTime": {
     "end_time": "2025-02-26T12:19:27.691553Z",
     "start_time": "2025-02-26T12:19:27.681359Z"
    }
   },
   "cell_type": "code",
   "source": [
    "from dataclasses import dataclass\n",
    "from pathlib import Path\n",
    "\n",
    "@dataclass(frozen=True)\n",
    "class DataIngestionConfig:\n",
    "    root_dir: Path\n",
    "    source_URL: str\n",
    "    local_data_file: Path\n",
    "    unzip_dir: Path\n"
   ],
   "id": "55c2c35ad43355a",
   "outputs": [],
   "execution_count": 5
  },
  {
   "metadata": {
    "ExecuteTime": {
     "end_time": "2025-02-26T12:20:02.778137Z",
     "start_time": "2025-02-26T12:20:02.734551Z"
    }
   },
   "cell_type": "code",
   "source": [
    "from nameit.constants import *\n",
    "from nameit.utils.common import read_yaml, create_directories"
   ],
   "id": "bb458791b3fb917",
   "outputs": [],
   "execution_count": 6
  },
  {
   "metadata": {
    "ExecuteTime": {
     "end_time": "2025-02-26T12:20:27.323933Z",
     "start_time": "2025-02-26T12:20:27.314076Z"
    }
   },
   "cell_type": "code",
   "source": [
    "class ConfigurationManager:\n",
    "    def __init__(\n",
    "        self,\n",
    "        config_filepath = CONFIG_FILE_PATH,\n",
    "        params_filepath = PARAMS_FILE_PATH):\n",
    "\n",
    "        self.config = read_yaml(config_filepath)\n",
    "        self.params = read_yaml(params_filepath)\n",
    "\n",
    "        create_directories([self.config.artifacts_root])\n",
    "\n",
    "\n",
    "\n",
    "    def get_data_ingestion_config(self) -> DataIngestionConfig:\n",
    "        config = self.config.data_ingestion\n",
    "\n",
    "        create_directories([config.root_dir])\n",
    "\n",
    "        data_ingestion_config = DataIngestionConfig(\n",
    "            root_dir=config.root_dir,\n",
    "            source_URL=config.source_URL,\n",
    "            local_data_file=config.local_data_file,\n",
    "            unzip_dir=config.unzip_dir\n",
    "        )\n",
    "\n",
    "        return data_ingestion_config"
   ],
   "id": "fea4a43f001c8c5b",
   "outputs": [],
   "execution_count": 7
  },
  {
   "metadata": {
    "ExecuteTime": {
     "end_time": "2025-02-26T12:21:05.805405Z",
     "start_time": "2025-02-26T12:21:05.791129Z"
    }
   },
   "cell_type": "code",
   "source": [
    "import os\n",
    "import urllib.request as request\n",
    "import zipfile\n",
    "from nameit.logging import logger\n",
    "from nameit.utils.common import get_size"
   ],
   "id": "403e0a4bc52f2d9",
   "outputs": [],
   "execution_count": 8
  },
  {
   "metadata": {
    "ExecuteTime": {
     "end_time": "2025-02-26T12:21:36.091944Z",
     "start_time": "2025-02-26T12:21:36.081928Z"
    }
   },
   "cell_type": "code",
   "source": [
    "class DataIngestion:\n",
    "    def __init__(self, config: DataIngestionConfig):\n",
    "        self.config = config\n",
    "\n",
    "\n",
    "\n",
    "    def download_file(self):\n",
    "        if not os.path.exists(self.config.local_data_file):\n",
    "            filename, headers = request.urlretrieve(\n",
    "                url = self.config.source_URL,\n",
    "                filename = self.config.local_data_file\n",
    "            )\n",
    "            logger.info(f\"{filename} download! with following info: \\n{headers}\")\n",
    "        else:\n",
    "            logger.info(f\"File already exists of size: {get_size(Path(self.config.local_data_file))}\")\n",
    "\n",
    "\n",
    "\n",
    "    def extract_zip_file(self):\n",
    "        \"\"\"\n",
    "        zip_file_path: str\n",
    "        Extracts the zip file into the data directory\n",
    "        Function returns None\n",
    "        \"\"\"\n",
    "        unzip_path = self.config.unzip_dir\n",
    "        os.makedirs(unzip_path, exist_ok=True)\n",
    "        with zipfile.ZipFile(self.config.local_data_file, 'r') as zip_ref:\n",
    "            zip_ref.extractall(unzip_path)"
   ],
   "id": "61f045d65fa347d0",
   "outputs": [],
   "execution_count": 9
  },
  {
   "metadata": {
    "ExecuteTime": {
     "end_time": "2025-03-04T14:08:35.633076Z",
     "start_time": "2025-03-04T14:08:35.622824Z"
    }
   },
   "cell_type": "code",
   "source": [
    "import os\n",
    "import zipfile\n",
    "\n",
    "\n",
    "class DataIngestion:\n",
    "    def __init__(self, config):\n",
    "        self.config = config\n",
    "\n",
    "    def download_file(self):\n",
    "        # Add file download implementation here\n",
    "        pass\n",
    "\n",
    "    def extract_zip_file(self):\n",
    "        local_file_path = self.config.local_data_file\n",
    "        unzip_path = self.config.unzip_dir\n",
    "\n",
    "        # Ensure the file exists\n",
    "        if not os.path.exists(local_file_path):\n",
    "            raise FileNotFoundError(f\"File not found: {local_file_path}\")\n",
    "\n",
    "        # Ensure the file is a valid zip archive\n",
    "        if not zipfile.is_zipfile(local_file_path):\n",
    "            raise zipfile.BadZipFile(f\"File is not a valid zip file: {local_file_path}\")\n",
    "\n",
    "        # Create output directory if it doesn't exist\n",
    "        os.makedirs(unzip_path, exist_ok=True)\n",
    "\n",
    "        # Extract the zip file\n",
    "        try:\n",
    "            with zipfile.ZipFile(local_file_path, 'r') as zip_ref:\n",
    "                zip_ref.extractall(unzip_path)\n",
    "                print(f\"Extraction successful. Files have been extracted to: {unzip_path}\")\n",
    "        except zipfile.BadZipFile as e:\n",
    "            raise zipfile.BadZipFile(f\"Error extracting ZIP file: {e}\")\n",
    "        except Exception as e:\n",
    "            raise Exception(f\"An unexpected error occurred during extraction: {e}\")\n"
   ],
   "id": "b0239ebb0f310556",
   "outputs": [],
   "execution_count": 15
  }
 ],
 "metadata": {
  "kernelspec": {
   "name": "name-it",
   "language": "python",
   "display_name": "Python (name-it)"
  }
 },
 "nbformat": 5,
 "nbformat_minor": 9
}
